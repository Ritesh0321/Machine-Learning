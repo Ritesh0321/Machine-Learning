{
 "cells": [
  {
   "cell_type": "markdown",
   "id": "ed31d665",
   "metadata": {},
   "source": [
    "Exam marks prediction using Linear Regression-Multiple variable"
   ]
  },
  {
   "cell_type": "markdown",
   "id": "10995ab2",
   "metadata": {},
   "source": [
    "Import Libraries"
   ]
  },
  {
   "cell_type": "code",
   "execution_count": null,
   "id": "6fa3ffc7",
   "metadata": {},
   "outputs": [],
   "source": [
    "import pandas as pd\n",
    "import numpy as np\n",
    "from sklearn.linear_model import LinearRegression\n",
    "import matplotlib.pyplot as plt"
   ]
  },
  {
   "cell_type": "markdown",
   "id": "8e895904",
   "metadata": {},
   "source": [
    "Load Dataset"
   ]
  },
  {
   "cell_type": "code",
   "execution_count": null,
   "id": "76a34f1d",
   "metadata": {},
   "outputs": [],
   "source": [
    "df=pd.read_csv(\"exammark.csv\")"
   ]
  },
  {
   "cell_type": "code",
   "execution_count": null,
   "id": "d7a7e3d1",
   "metadata": {},
   "outputs": [],
   "source": [
    "df.head()"
   ]
  },
  {
   "cell_type": "code",
   "execution_count": null,
   "id": "ba0b3558",
   "metadata": {
    "scrolled": true
   },
   "outputs": [],
   "source": [
    "df.tail()"
   ]
  },
  {
   "cell_type": "code",
   "execution_count": null,
   "id": "e097976c",
   "metadata": {},
   "outputs": [],
   "source": [
    "df.describe()"
   ]
  },
  {
   "cell_type": "code",
   "execution_count": null,
   "id": "40dc6988",
   "metadata": {},
   "outputs": [],
   "source": [
    "df.info()"
   ]
  },
  {
   "cell_type": "markdown",
   "id": "f60afd64",
   "metadata": {},
   "source": [
    "Load Summarize\n"
   ]
  },
  {
   "cell_type": "code",
   "execution_count": null,
   "id": "ecf9d5a0",
   "metadata": {},
   "outputs": [],
   "source": [
    "print(df.shape)\n",
    "print(df.head(5))"
   ]
  },
  {
   "cell_type": "markdown",
   "id": "2e8c947c",
   "metadata": {},
   "source": [
    "FInding & Removing NA values fromour features X"
   ]
  },
  {
   "cell_type": "code",
   "execution_count": null,
   "id": "ba03ca27",
   "metadata": {
    "scrolled": true
   },
   "outputs": [],
   "source": [
    "df.columns[df.isna().any()]"
   ]
  },
  {
   "cell_type": "code",
   "execution_count": null,
   "id": "55424396",
   "metadata": {},
   "outputs": [],
   "source": [
    "df.hours=df.hours.fillna(df.hours.mean())"
   ]
  },
  {
   "cell_type": "markdown",
   "id": "bbc24020",
   "metadata": {},
   "source": [
    "Segregate Data into Input X & Ouptut Y"
   ]
  },
  {
   "cell_type": "code",
   "execution_count": null,
   "id": "55f8e3c8",
   "metadata": {},
   "outputs": [],
   "source": [
    "X=df.iloc[:,:-1].values\n",
    "print(X.shape)\n",
    "X"
   ]
  },
  {
   "cell_type": "code",
   "execution_count": null,
   "id": "d4153507",
   "metadata": {},
   "outputs": [],
   "source": [
    "Y=df.iloc[:,-1].values\n",
    "Y"
   ]
  },
  {
   "cell_type": "markdown",
   "id": "6fc309ac",
   "metadata": {},
   "source": [
    "Training Dataset using Linear Regression"
   ]
  },
  {
   "cell_type": "code",
   "execution_count": null,
   "id": "e7bb5c29",
   "metadata": {},
   "outputs": [],
   "source": [
    "model=LinearRegression()\n",
    "model.fit(X,Y)"
   ]
  },
  {
   "cell_type": "markdown",
   "id": "5b3b2454",
   "metadata": {},
   "source": [
    "Predicted Marks"
   ]
  },
  {
   "cell_type": "code",
   "execution_count": null,
   "id": "493575a0",
   "metadata": {},
   "outputs": [],
   "source": [
    "a=[[0,5,1]]\n",
    "PredictedmodelResult=model.predict(a)\n",
    "print(PredictedmodelResult)"
   ]
  },
  {
   "cell_type": "code",
   "execution_count": null,
   "id": "19ba8a22",
   "metadata": {},
   "outputs": [],
   "source": [
    "plt.xlabel(\"hours\")\n",
    "plt.ylabel(\"marks\")\n",
    "plt.scatter(df.hours,df.marks,color=\"red\",marker=\".\")"
   ]
  },
  {
   "cell_type": "code",
   "execution_count": null,
   "id": "9ebf5d8b",
   "metadata": {},
   "outputs": [],
   "source": [
    "plt.xlabel(\"age\")\n",
    "plt.ylabel(\"marks\")\n",
    "plt.scatter(df.age,df.marks,color=\"green\",marker=\".\")"
   ]
  },
  {
   "cell_type": "code",
   "execution_count": null,
   "id": "c39a4b33",
   "metadata": {},
   "outputs": [],
   "source": [
    "plt.xlabel(\"internet\")\n",
    "plt.ylabel(\"marks\")\n",
    "plt.scatter(df.internet,df.marks,color=\"blue\",marker=\".\")"
   ]
  }
 ],
 "metadata": {
  "kernelspec": {
   "display_name": "Python 3 (ipykernel)",
   "language": "python",
   "name": "python3"
  },
  "language_info": {
   "codemirror_mode": {
    "name": "ipython",
    "version": 3
   },
   "file_extension": ".py",
   "mimetype": "text/x-python",
   "name": "python",
   "nbconvert_exporter": "python",
   "pygments_lexer": "ipython3",
   "version": "3.11.4"
  }
 },
 "nbformat": 4,
 "nbformat_minor": 5
}
