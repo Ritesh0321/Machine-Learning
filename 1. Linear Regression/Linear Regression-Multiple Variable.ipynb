{
 "cells": [
  {
   "cell_type": "markdown",
   "id": "ed31d665",
   "metadata": {},
   "source": [
    "Exam marks prediction using Linear Regression-Multiple variable"
   ]
  },
  {
   "cell_type": "markdown",
   "id": "10995ab2",
   "metadata": {},
   "source": [
    "Import Libraries"
   ]
  },
  {
   "cell_type": "code",
   "execution_count": 17,
   "id": "6fa3ffc7",
   "metadata": {},
   "outputs": [],
   "source": [
    "import pandas as pd\n",
    "import numpy as np\n",
    "from sklearn.linear_model import LinearRegression\n",
    "import matplotlib.pyplot as plt"
   ]
  },
  {
   "cell_type": "markdown",
   "id": "8e895904",
   "metadata": {},
   "source": [
    "Load Dataset"
   ]
  },
  {
   "cell_type": "code",
   "execution_count": 18,
   "id": "76a34f1d",
   "metadata": {},
   "outputs": [],
   "source": [
    "df=pd.read_csv(\"exammark.csv\")"
   ]
  },
  {
   "cell_type": "code",
   "execution_count": 19,
   "id": "d7a7e3d1",
   "metadata": {},
   "outputs": [
    {
     "data": {
      "text/html": [
       "<div>\n",
       "<style scoped>\n",
       "    .dataframe tbody tr th:only-of-type {\n",
       "        vertical-align: middle;\n",
       "    }\n",
       "\n",
       "    .dataframe tbody tr th {\n",
       "        vertical-align: top;\n",
       "    }\n",
       "\n",
       "    .dataframe thead th {\n",
       "        text-align: right;\n",
       "    }\n",
       "</style>\n",
       "<table border=\"1\" class=\"dataframe\">\n",
       "  <thead>\n",
       "    <tr style=\"text-align: right;\">\n",
       "      <th></th>\n",
       "      <th>hours</th>\n",
       "      <th>age</th>\n",
       "      <th>internet</th>\n",
       "      <th>marks</th>\n",
       "    </tr>\n",
       "  </thead>\n",
       "  <tbody>\n",
       "    <tr>\n",
       "      <th>0</th>\n",
       "      <td>6.83</td>\n",
       "      <td>15</td>\n",
       "      <td>1</td>\n",
       "      <td>78.50</td>\n",
       "    </tr>\n",
       "    <tr>\n",
       "      <th>1</th>\n",
       "      <td>6.56</td>\n",
       "      <td>16</td>\n",
       "      <td>0</td>\n",
       "      <td>76.74</td>\n",
       "    </tr>\n",
       "    <tr>\n",
       "      <th>2</th>\n",
       "      <td>NaN</td>\n",
       "      <td>17</td>\n",
       "      <td>1</td>\n",
       "      <td>78.68</td>\n",
       "    </tr>\n",
       "    <tr>\n",
       "      <th>3</th>\n",
       "      <td>5.67</td>\n",
       "      <td>18</td>\n",
       "      <td>0</td>\n",
       "      <td>71.82</td>\n",
       "    </tr>\n",
       "    <tr>\n",
       "      <th>4</th>\n",
       "      <td>8.67</td>\n",
       "      <td>19</td>\n",
       "      <td>1</td>\n",
       "      <td>84.19</td>\n",
       "    </tr>\n",
       "  </tbody>\n",
       "</table>\n",
       "</div>"
      ],
      "text/plain": [
       "   hours  age  internet  marks\n",
       "0   6.83   15         1  78.50\n",
       "1   6.56   16         0  76.74\n",
       "2    NaN   17         1  78.68\n",
       "3   5.67   18         0  71.82\n",
       "4   8.67   19         1  84.19"
      ]
     },
     "execution_count": 19,
     "metadata": {},
     "output_type": "execute_result"
    }
   ],
   "source": [
    "df.head()"
   ]
  },
  {
   "cell_type": "code",
   "execution_count": 20,
   "id": "ba0b3558",
   "metadata": {
    "scrolled": true
   },
   "outputs": [
    {
     "data": {
      "text/html": [
       "<div>\n",
       "<style scoped>\n",
       "    .dataframe tbody tr th:only-of-type {\n",
       "        vertical-align: middle;\n",
       "    }\n",
       "\n",
       "    .dataframe tbody tr th {\n",
       "        vertical-align: top;\n",
       "    }\n",
       "\n",
       "    .dataframe thead th {\n",
       "        text-align: right;\n",
       "    }\n",
       "</style>\n",
       "<table border=\"1\" class=\"dataframe\">\n",
       "  <thead>\n",
       "    <tr style=\"text-align: right;\">\n",
       "      <th></th>\n",
       "      <th>hours</th>\n",
       "      <th>age</th>\n",
       "      <th>internet</th>\n",
       "      <th>marks</th>\n",
       "    </tr>\n",
       "  </thead>\n",
       "  <tbody>\n",
       "    <tr>\n",
       "      <th>196</th>\n",
       "      <td>8.56</td>\n",
       "      <td>19</td>\n",
       "      <td>1</td>\n",
       "      <td>84.68</td>\n",
       "    </tr>\n",
       "    <tr>\n",
       "      <th>197</th>\n",
       "      <td>8.94</td>\n",
       "      <td>20</td>\n",
       "      <td>1</td>\n",
       "      <td>86.75</td>\n",
       "    </tr>\n",
       "    <tr>\n",
       "      <th>198</th>\n",
       "      <td>6.60</td>\n",
       "      <td>15</td>\n",
       "      <td>1</td>\n",
       "      <td>78.05</td>\n",
       "    </tr>\n",
       "    <tr>\n",
       "      <th>199</th>\n",
       "      <td>8.35</td>\n",
       "      <td>16</td>\n",
       "      <td>1</td>\n",
       "      <td>83.50</td>\n",
       "    </tr>\n",
       "    <tr>\n",
       "      <th>200</th>\n",
       "      <td>4.15</td>\n",
       "      <td>15</td>\n",
       "      <td>0</td>\n",
       "      <td>81.45</td>\n",
       "    </tr>\n",
       "  </tbody>\n",
       "</table>\n",
       "</div>"
      ],
      "text/plain": [
       "     hours  age  internet  marks\n",
       "196   8.56   19         1  84.68\n",
       "197   8.94   20         1  86.75\n",
       "198   6.60   15         1  78.05\n",
       "199   8.35   16         1  83.50\n",
       "200   4.15   15         0  81.45"
      ]
     },
     "execution_count": 20,
     "metadata": {},
     "output_type": "execute_result"
    }
   ],
   "source": [
    "df.tail()"
   ]
  },
  {
   "cell_type": "code",
   "execution_count": 21,
   "id": "e097976c",
   "metadata": {},
   "outputs": [
    {
     "data": {
      "text/html": [
       "<div>\n",
       "<style scoped>\n",
       "    .dataframe tbody tr th:only-of-type {\n",
       "        vertical-align: middle;\n",
       "    }\n",
       "\n",
       "    .dataframe tbody tr th {\n",
       "        vertical-align: top;\n",
       "    }\n",
       "\n",
       "    .dataframe thead th {\n",
       "        text-align: right;\n",
       "    }\n",
       "</style>\n",
       "<table border=\"1\" class=\"dataframe\">\n",
       "  <thead>\n",
       "    <tr style=\"text-align: right;\">\n",
       "      <th></th>\n",
       "      <th>hours</th>\n",
       "      <th>age</th>\n",
       "      <th>internet</th>\n",
       "      <th>marks</th>\n",
       "    </tr>\n",
       "  </thead>\n",
       "  <tbody>\n",
       "    <tr>\n",
       "      <th>count</th>\n",
       "      <td>196.000000</td>\n",
       "      <td>201.000000</td>\n",
       "      <td>201.000000</td>\n",
       "      <td>201.000000</td>\n",
       "    </tr>\n",
       "    <tr>\n",
       "      <th>mean</th>\n",
       "      <td>6.981429</td>\n",
       "      <td>17.467662</td>\n",
       "      <td>0.552239</td>\n",
       "      <td>77.951244</td>\n",
       "    </tr>\n",
       "    <tr>\n",
       "      <th>std</th>\n",
       "      <td>1.266266</td>\n",
       "      <td>1.720523</td>\n",
       "      <td>0.498505</td>\n",
       "      <td>4.919626</td>\n",
       "    </tr>\n",
       "    <tr>\n",
       "      <th>min</th>\n",
       "      <td>4.150000</td>\n",
       "      <td>15.000000</td>\n",
       "      <td>0.000000</td>\n",
       "      <td>68.570000</td>\n",
       "    </tr>\n",
       "    <tr>\n",
       "      <th>25%</th>\n",
       "      <td>5.757500</td>\n",
       "      <td>16.000000</td>\n",
       "      <td>0.000000</td>\n",
       "      <td>73.400000</td>\n",
       "    </tr>\n",
       "    <tr>\n",
       "      <th>50%</th>\n",
       "      <td>7.110000</td>\n",
       "      <td>17.000000</td>\n",
       "      <td>1.000000</td>\n",
       "      <td>77.770000</td>\n",
       "    </tr>\n",
       "    <tr>\n",
       "      <th>75%</th>\n",
       "      <td>8.082500</td>\n",
       "      <td>19.000000</td>\n",
       "      <td>1.000000</td>\n",
       "      <td>82.300000</td>\n",
       "    </tr>\n",
       "    <tr>\n",
       "      <th>max</th>\n",
       "      <td>8.990000</td>\n",
       "      <td>20.000000</td>\n",
       "      <td>1.000000</td>\n",
       "      <td>86.990000</td>\n",
       "    </tr>\n",
       "  </tbody>\n",
       "</table>\n",
       "</div>"
      ],
      "text/plain": [
       "            hours         age    internet       marks\n",
       "count  196.000000  201.000000  201.000000  201.000000\n",
       "mean     6.981429   17.467662    0.552239   77.951244\n",
       "std      1.266266    1.720523    0.498505    4.919626\n",
       "min      4.150000   15.000000    0.000000   68.570000\n",
       "25%      5.757500   16.000000    0.000000   73.400000\n",
       "50%      7.110000   17.000000    1.000000   77.770000\n",
       "75%      8.082500   19.000000    1.000000   82.300000\n",
       "max      8.990000   20.000000    1.000000   86.990000"
      ]
     },
     "execution_count": 21,
     "metadata": {},
     "output_type": "execute_result"
    }
   ],
   "source": [
    "df.describe()"
   ]
  },
  {
   "cell_type": "code",
   "execution_count": 22,
   "id": "40dc6988",
   "metadata": {},
   "outputs": [
    {
     "name": "stdout",
     "output_type": "stream",
     "text": [
      "<class 'pandas.core.frame.DataFrame'>\n",
      "RangeIndex: 201 entries, 0 to 200\n",
      "Data columns (total 4 columns):\n",
      " #   Column    Non-Null Count  Dtype  \n",
      "---  ------    --------------  -----  \n",
      " 0   hours     196 non-null    float64\n",
      " 1   age       201 non-null    int64  \n",
      " 2   internet  201 non-null    int64  \n",
      " 3   marks     201 non-null    float64\n",
      "dtypes: float64(2), int64(2)\n",
      "memory usage: 6.4 KB\n"
     ]
    }
   ],
   "source": [
    "df.info()"
   ]
  },
  {
   "cell_type": "markdown",
   "id": "f60afd64",
   "metadata": {},
   "source": [
    "Load Summarize\n"
   ]
  },
  {
   "cell_type": "code",
   "execution_count": 23,
   "id": "ecf9d5a0",
   "metadata": {},
   "outputs": [
    {
     "name": "stdout",
     "output_type": "stream",
     "text": [
      "(201, 4)\n",
      "   hours  age  internet  marks\n",
      "0   6.83   15         1  78.50\n",
      "1   6.56   16         0  76.74\n",
      "2    NaN   17         1  78.68\n",
      "3   5.67   18         0  71.82\n",
      "4   8.67   19         1  84.19\n"
     ]
    }
   ],
   "source": [
    "print(df.shape)\n",
    "print(df.head(5))"
   ]
  },
  {
   "cell_type": "markdown",
   "id": "2e8c947c",
   "metadata": {},
   "source": [
    "FInding & Removing NA values fromour features X"
   ]
  },
  {
   "cell_type": "code",
   "execution_count": 24,
   "id": "ba03ca27",
   "metadata": {
    "scrolled": true
   },
   "outputs": [
    {
     "data": {
      "text/plain": [
       "Index(['hours'], dtype='object')"
      ]
     },
     "execution_count": 24,
     "metadata": {},
     "output_type": "execute_result"
    }
   ],
   "source": [
    "df.columns[df.isna().any()]"
   ]
  },
  {
   "cell_type": "code",
   "execution_count": 25,
   "id": "55424396",
   "metadata": {},
   "outputs": [],
   "source": [
    "df.hours=df.hours.fillna(df.hours.mean())"
   ]
  },
  {
   "cell_type": "markdown",
   "id": "bbc24020",
   "metadata": {},
   "source": [
    "Segregate Data into Input X & Ouptut Y"
   ]
  },
  {
   "cell_type": "code",
   "execution_count": 26,
   "id": "55f8e3c8",
   "metadata": {},
   "outputs": [
    {
     "name": "stdout",
     "output_type": "stream",
     "text": [
      "(201, 3)\n"
     ]
    },
    {
     "data": {
      "text/plain": [
       "array([[ 6.83      , 15.        ,  1.        ],\n",
       "       [ 6.56      , 16.        ,  0.        ],\n",
       "       [ 6.98142857, 17.        ,  1.        ],\n",
       "       [ 5.67      , 18.        ,  0.        ],\n",
       "       [ 8.67      , 19.        ,  1.        ],\n",
       "       [ 7.55      , 20.        ,  0.        ],\n",
       "       [ 6.67      , 15.        ,  0.        ],\n",
       "       [ 8.99      , 16.        ,  0.        ],\n",
       "       [ 5.19      , 17.        ,  1.        ],\n",
       "       [ 6.75      , 18.        ,  0.        ],\n",
       "       [ 6.59      , 19.        ,  0.        ],\n",
       "       [ 8.56      , 20.        ,  1.        ],\n",
       "       [ 7.75      , 15.        ,  0.        ],\n",
       "       [ 7.9       , 16.        ,  1.        ],\n",
       "       [ 8.19      , 17.        ,  0.        ],\n",
       "       [ 6.55      , 18.        ,  1.        ],\n",
       "       [ 6.36      , 19.        ,  0.        ],\n",
       "       [ 8.44      , 20.        ,  1.        ],\n",
       "       [ 8.41      , 15.        ,  0.        ],\n",
       "       [ 7.67      , 16.        ,  1.        ],\n",
       "       [ 7.42      , 17.        ,  1.        ],\n",
       "       [ 8.16      , 18.        ,  1.        ],\n",
       "       [ 5.05      , 19.        ,  1.        ],\n",
       "       [ 5.85      , 20.        ,  1.        ],\n",
       "       [ 5.45      , 15.        ,  0.        ],\n",
       "       [ 7.96      , 16.        ,  0.        ],\n",
       "       [ 6.51      , 17.        ,  0.        ],\n",
       "       [ 6.73      , 18.        ,  0.        ],\n",
       "       [ 5.94      , 19.        ,  1.        ],\n",
       "       [ 7.48      , 20.        ,  0.        ],\n",
       "       [ 8.13      , 15.        ,  1.        ],\n",
       "       [ 6.98142857, 16.        ,  1.        ],\n",
       "       [ 5.4       , 17.        ,  1.        ],\n",
       "       [ 8.78      , 18.        ,  0.        ],\n",
       "       [ 8.72      , 19.        ,  1.        ],\n",
       "       [ 7.1       , 20.        ,  0.        ],\n",
       "       [ 7.86      , 15.        ,  1.        ],\n",
       "       [ 7.19      , 16.        ,  0.        ],\n",
       "       [ 5.62      , 17.        ,  1.        ],\n",
       "       [ 7.88      , 18.        ,  0.        ],\n",
       "       [ 5.28      , 19.        ,  1.        ],\n",
       "       [ 8.92      , 20.        ,  1.        ],\n",
       "       [ 5.46      , 15.        ,  0.        ],\n",
       "       [ 8.3       , 16.        ,  1.        ],\n",
       "       [ 8.09      , 17.        ,  0.        ],\n",
       "       [ 6.18      , 18.        ,  1.        ],\n",
       "       [ 7.01      , 19.        ,  1.        ],\n",
       "       [ 5.01      , 20.        ,  0.        ],\n",
       "       [ 5.54      , 15.        ,  1.        ],\n",
       "       [ 5.09      , 16.        ,  1.        ],\n",
       "       [ 5.09      , 17.        ,  0.        ],\n",
       "       [ 7.31      , 18.        ,  1.        ],\n",
       "       [ 8.71      , 19.        ,  0.        ],\n",
       "       [ 5.52      , 20.        ,  1.        ],\n",
       "       [ 8.76      , 15.        ,  0.        ],\n",
       "       [ 8.69      , 16.        ,  1.        ],\n",
       "       [ 5.75      , 17.        ,  1.        ],\n",
       "       [ 8.93      , 18.        ,  1.        ],\n",
       "       [ 5.39      , 19.        ,  1.        ],\n",
       "       [ 5.65      , 20.        ,  0.        ],\n",
       "       [ 5.49      , 15.        ,  1.        ],\n",
       "       [ 7.26      , 16.        ,  1.        ],\n",
       "       [ 6.35      , 17.        ,  0.        ],\n",
       "       [ 7.72      , 18.        ,  1.        ],\n",
       "       [ 8.88      , 19.        ,  0.        ],\n",
       "       [ 5.45      , 20.        ,  1.        ],\n",
       "       [ 7.86      , 15.        ,  1.        ],\n",
       "       [ 8.26      , 16.        ,  0.        ],\n",
       "       [ 5.07      , 17.        ,  1.        ],\n",
       "       [ 8.25      , 18.        ,  0.        ],\n",
       "       [ 5.37      , 19.        ,  1.        ],\n",
       "       [ 5.11      , 20.        ,  1.        ],\n",
       "       [ 6.35      , 15.        ,  0.        ],\n",
       "       [ 7.41      , 16.        ,  1.        ],\n",
       "       [ 7.31      , 17.        ,  0.        ],\n",
       "       [ 6.04      , 18.        ,  1.        ],\n",
       "       [ 5.11      , 19.        ,  1.        ],\n",
       "       [ 6.56      , 20.        ,  0.        ],\n",
       "       [ 5.09      , 15.        ,  1.        ],\n",
       "       [ 5.88      , 16.        ,  0.        ],\n",
       "       [ 8.34      , 17.        ,  1.        ],\n",
       "       [ 7.94      , 18.        ,  0.        ],\n",
       "       [ 6.66      , 19.        ,  1.        ],\n",
       "       [ 6.01      , 20.        ,  1.        ],\n",
       "       [ 6.88      , 15.        ,  0.        ],\n",
       "       [ 5.63      , 16.        ,  1.        ],\n",
       "       [ 5.88      , 17.        ,  0.        ],\n",
       "       [ 8.05      , 18.        ,  1.        ],\n",
       "       [ 5.33      , 19.        ,  0.        ],\n",
       "       [ 8.79      , 20.        ,  0.        ],\n",
       "       [ 7.52      , 15.        ,  1.        ],\n",
       "       [ 8.2       , 16.        ,  0.        ],\n",
       "       [ 5.44      , 17.        ,  1.        ],\n",
       "       [ 7.9       , 18.        ,  0.        ],\n",
       "       [ 7.69      , 19.        ,  1.        ],\n",
       "       [ 6.09      , 20.        ,  0.        ],\n",
       "       [ 6.98142857, 15.        ,  1.        ],\n",
       "       [ 5.2       , 16.        ,  1.        ],\n",
       "       [ 8.88      , 17.        ,  0.        ],\n",
       "       [ 8.07      , 18.        ,  1.        ],\n",
       "       [ 6.24      , 19.        ,  1.        ],\n",
       "       [ 7.95      , 20.        ,  0.        ],\n",
       "       [ 8.26      , 15.        ,  0.        ],\n",
       "       [ 7.31      , 16.        ,  1.        ],\n",
       "       [ 7.23      , 17.        ,  1.        ],\n",
       "       [ 6.46      , 18.        ,  1.        ],\n",
       "       [ 5.34      , 19.        ,  1.        ],\n",
       "       [ 5.72      , 20.        ,  1.        ],\n",
       "       [ 5.84      , 15.        ,  0.        ],\n",
       "       [ 5.02      , 16.        ,  1.        ],\n",
       "       [ 7.98      , 17.        ,  0.        ],\n",
       "       [ 6.37      , 18.        ,  1.        ],\n",
       "       [ 6.92      , 19.        ,  0.        ],\n",
       "       [ 7.95      , 20.        ,  1.        ],\n",
       "       [ 7.12      , 15.        ,  0.        ],\n",
       "       [ 5.79      , 16.        ,  1.        ],\n",
       "       [ 5.4       , 17.        ,  0.        ],\n",
       "       [ 8.83      , 18.        ,  1.        ],\n",
       "       [ 5.69      , 19.        ,  0.        ],\n",
       "       [ 6.6       , 20.        ,  1.        ],\n",
       "       [ 6.52      , 15.        ,  0.        ],\n",
       "       [ 8.31      , 16.        ,  0.        ],\n",
       "       [ 6.98142857, 17.        ,  1.        ],\n",
       "       [ 7.62      , 18.        ,  0.        ],\n",
       "       [ 8.69      , 19.        ,  1.        ],\n",
       "       [ 8.75      , 20.        ,  0.        ],\n",
       "       [ 6.46      , 15.        ,  1.        ],\n",
       "       [ 7.14      , 16.        ,  1.        ],\n",
       "       [ 6.38      , 17.        ,  0.        ],\n",
       "       [ 6.33      , 18.        ,  1.        ],\n",
       "       [ 5.64      , 19.        ,  0.        ],\n",
       "       [ 5.26      , 20.        ,  1.        ],\n",
       "       [ 6.83      , 15.        ,  1.        ],\n",
       "       [ 5.76      , 16.        ,  0.        ],\n",
       "       [ 6.51      , 17.        ,  1.        ],\n",
       "       [ 8.33      , 18.        ,  0.        ],\n",
       "       [ 8.16      , 19.        ,  1.        ],\n",
       "       [ 5.14      , 20.        ,  0.        ],\n",
       "       [ 8.71      , 15.        ,  0.        ],\n",
       "       [ 8.6       , 16.        ,  1.        ],\n",
       "       [ 8.6       , 17.        ,  0.        ],\n",
       "       [ 7.43      , 18.        ,  1.        ],\n",
       "       [ 7.81      , 19.        ,  1.        ],\n",
       "       [ 6.51      , 20.        ,  0.        ],\n",
       "       [ 8.11      , 15.        ,  1.        ],\n",
       "       [ 8.95      , 16.        ,  0.        ],\n",
       "       [ 7.99      , 17.        ,  1.        ],\n",
       "       [ 5.92      , 18.        ,  0.        ],\n",
       "       [ 8.3       , 19.        ,  1.        ],\n",
       "       [ 8.97      , 20.        ,  0.        ],\n",
       "       [ 5.39      , 15.        ,  0.        ],\n",
       "       [ 6.77      , 16.        ,  0.        ],\n",
       "       [ 8.08      , 17.        ,  1.        ],\n",
       "       [ 5.24      , 18.        ,  0.        ],\n",
       "       [ 6.93      , 19.        ,  1.        ],\n",
       "       [ 5.14      , 20.        ,  0.        ],\n",
       "       [ 8.39      , 15.        ,  1.        ],\n",
       "       [ 6.18      , 16.        ,  0.        ],\n",
       "       [ 7.53      , 17.        ,  1.        ],\n",
       "       [ 7.86      , 18.        ,  0.        ],\n",
       "       [ 7.7       , 19.        ,  1.        ],\n",
       "       [ 7.3       , 20.        ,  0.        ],\n",
       "       [ 7.79      , 15.        ,  1.        ],\n",
       "       [ 6.75      , 16.        ,  0.        ],\n",
       "       [ 7.87      , 17.        ,  1.        ],\n",
       "       [ 5.38      , 18.        ,  0.        ],\n",
       "       [ 7.8       , 19.        ,  1.        ],\n",
       "       [ 5.07      , 20.        ,  0.        ],\n",
       "       [ 7.95      , 15.        ,  1.        ],\n",
       "       [ 8.35      , 16.        ,  0.        ],\n",
       "       [ 5.19      , 17.        ,  0.        ],\n",
       "       [ 7.19      , 18.        ,  0.        ],\n",
       "       [ 7.35      , 19.        ,  1.        ],\n",
       "       [ 5.22      , 20.        ,  1.        ],\n",
       "       [ 5.39      , 15.        ,  1.        ],\n",
       "       [ 5.39      , 16.        ,  1.        ],\n",
       "       [ 8.93      , 17.        ,  1.        ],\n",
       "       [ 5.79      , 18.        ,  0.        ],\n",
       "       [ 8.42      , 19.        ,  1.        ],\n",
       "       [ 7.26      , 20.        ,  0.        ],\n",
       "       [ 6.97      , 15.        ,  1.        ],\n",
       "       [ 5.55      , 16.        ,  1.        ],\n",
       "       [ 8.66      , 17.        ,  0.        ],\n",
       "       [ 8.61      , 18.        ,  1.        ],\n",
       "       [ 5.22      , 19.        ,  1.        ],\n",
       "       [ 8.05      , 20.        ,  0.        ],\n",
       "       [ 8.87      , 15.        ,  1.        ],\n",
       "       [ 5.54      , 16.        ,  0.        ],\n",
       "       [ 6.98142857, 17.        ,  0.        ],\n",
       "       [ 7.26      , 18.        ,  1.        ],\n",
       "       [ 5.79      , 19.        ,  0.        ],\n",
       "       [ 5.22      , 20.        ,  0.        ],\n",
       "       [ 8.71      , 15.        ,  1.        ],\n",
       "       [ 7.55      , 16.        ,  1.        ],\n",
       "       [ 6.35      , 17.        ,  1.        ],\n",
       "       [ 7.53      , 18.        ,  0.        ],\n",
       "       [ 8.56      , 19.        ,  1.        ],\n",
       "       [ 8.94      , 20.        ,  1.        ],\n",
       "       [ 6.6       , 15.        ,  1.        ],\n",
       "       [ 8.35      , 16.        ,  1.        ],\n",
       "       [ 4.15      , 15.        ,  0.        ]])"
      ]
     },
     "execution_count": 26,
     "metadata": {},
     "output_type": "execute_result"
    }
   ],
   "source": [
    "X=df.iloc[:,:-1].values\n",
    "print(X.shape)\n",
    "X"
   ]
  },
  {
   "cell_type": "code",
   "execution_count": 27,
   "id": "d4153507",
   "metadata": {},
   "outputs": [
    {
     "data": {
      "text/plain": [
       "array([78.5 , 76.74, 78.68, 71.82, 84.19, 81.18, 76.99, 85.46, 70.66,\n",
       "       77.82, 75.37, 83.88, 79.5 , 80.76, 83.08, 76.03, 76.04, 85.11,\n",
       "       82.5 , 80.58, 82.18, 83.36, 70.67, 75.02, 70.96, 83.33, 74.75,\n",
       "       75.65, 74.15, 80.17, 82.27, 76.14, 71.1 , 84.35, 83.08, 76.76,\n",
       "       81.24, 78.21, 73.08, 83.23, 70.27, 86.41, 71.1 , 82.84, 82.38,\n",
       "       72.96, 77.46, 70.11, 72.38, 71.41, 72.22, 77.77, 84.44, 71.45,\n",
       "       82.21, 85.48, 75.03, 86.65, 70.9 , 71.7 , 73.61, 79.41, 76.19,\n",
       "       80.43, 85.78, 70.06, 81.25, 81.7 , 69.27, 82.79, 71.8 , 71.79,\n",
       "       74.97, 78.61, 77.59, 72.33, 72.08, 77.33, 70.05, 73.34, 84.  ,\n",
       "       82.93, 76.63, 75.36, 77.29, 72.87, 73.4 , 81.74, 71.85, 84.6 ,\n",
       "       79.56, 82.1 , 72.08, 79.1 , 81.01, 76.48, 75.39, 68.57, 83.64,\n",
       "       82.3 , 75.18, 82.03, 82.99, 79.26, 77.55, 77.07, 72.1 , 73.25,\n",
       "       74.25, 70.58, 81.08, 75.04, 76.38, 80.86, 78.42, 74.44, 70.34,\n",
       "       85.04, 73.61, 75.55, 76.2 , 82.69, 76.83, 79.53, 83.57, 85.95,\n",
       "       76.02, 77.65, 77.01, 74.49, 73.19, 71.86, 75.8 , 72.46, 78.39,\n",
       "       83.48, 83.15, 71.22, 85.98, 83.91, 84.58, 80.31, 82.55, 75.52,\n",
       "       83.82, 85.15, 82.75, 74.34, 82.02, 86.12, 71.87, 76.7 , 81.7 ,\n",
       "       70.78, 78.45, 70.2 , 83.37, 75.52, 81.57, 80.72, 80.81, 79.49,\n",
       "       79.17, 77.07, 82.04, 71.94, 81.6 , 70.79, 82.68, 83.08, 71.18,\n",
       "       77.63, 77.78, 70.4 , 73.02, 71.11, 85.96, 73.64, 84.24, 78.17,\n",
       "       77.19, 71.83, 86.99, 83.87, 71.5 , 79.63, 85.1 , 72.01, 77.27,\n",
       "       79.87, 73.14, 70.51, 84.03, 79.64, 74.24, 81.67, 84.68, 86.75,\n",
       "       78.05, 83.5 , 81.45])"
      ]
     },
     "execution_count": 27,
     "metadata": {},
     "output_type": "execute_result"
    }
   ],
   "source": [
    "Y=df.iloc[:,-1].values\n",
    "Y"
   ]
  },
  {
   "cell_type": "markdown",
   "id": "6fc309ac",
   "metadata": {},
   "source": [
    "Training Dataset using Linear Regression"
   ]
  },
  {
   "cell_type": "code",
   "execution_count": 28,
   "id": "e7bb5c29",
   "metadata": {},
   "outputs": [
    {
     "data": {
      "text/html": [
       "<style>#sk-container-id-2 {color: black;}#sk-container-id-2 pre{padding: 0;}#sk-container-id-2 div.sk-toggleable {background-color: white;}#sk-container-id-2 label.sk-toggleable__label {cursor: pointer;display: block;width: 100%;margin-bottom: 0;padding: 0.3em;box-sizing: border-box;text-align: center;}#sk-container-id-2 label.sk-toggleable__label-arrow:before {content: \"▸\";float: left;margin-right: 0.25em;color: #696969;}#sk-container-id-2 label.sk-toggleable__label-arrow:hover:before {color: black;}#sk-container-id-2 div.sk-estimator:hover label.sk-toggleable__label-arrow:before {color: black;}#sk-container-id-2 div.sk-toggleable__content {max-height: 0;max-width: 0;overflow: hidden;text-align: left;background-color: #f0f8ff;}#sk-container-id-2 div.sk-toggleable__content pre {margin: 0.2em;color: black;border-radius: 0.25em;background-color: #f0f8ff;}#sk-container-id-2 input.sk-toggleable__control:checked~div.sk-toggleable__content {max-height: 200px;max-width: 100%;overflow: auto;}#sk-container-id-2 input.sk-toggleable__control:checked~label.sk-toggleable__label-arrow:before {content: \"▾\";}#sk-container-id-2 div.sk-estimator input.sk-toggleable__control:checked~label.sk-toggleable__label {background-color: #d4ebff;}#sk-container-id-2 div.sk-label input.sk-toggleable__control:checked~label.sk-toggleable__label {background-color: #d4ebff;}#sk-container-id-2 input.sk-hidden--visually {border: 0;clip: rect(1px 1px 1px 1px);clip: rect(1px, 1px, 1px, 1px);height: 1px;margin: -1px;overflow: hidden;padding: 0;position: absolute;width: 1px;}#sk-container-id-2 div.sk-estimator {font-family: monospace;background-color: #f0f8ff;border: 1px dotted black;border-radius: 0.25em;box-sizing: border-box;margin-bottom: 0.5em;}#sk-container-id-2 div.sk-estimator:hover {background-color: #d4ebff;}#sk-container-id-2 div.sk-parallel-item::after {content: \"\";width: 100%;border-bottom: 1px solid gray;flex-grow: 1;}#sk-container-id-2 div.sk-label:hover label.sk-toggleable__label {background-color: #d4ebff;}#sk-container-id-2 div.sk-serial::before {content: \"\";position: absolute;border-left: 1px solid gray;box-sizing: border-box;top: 0;bottom: 0;left: 50%;z-index: 0;}#sk-container-id-2 div.sk-serial {display: flex;flex-direction: column;align-items: center;background-color: white;padding-right: 0.2em;padding-left: 0.2em;position: relative;}#sk-container-id-2 div.sk-item {position: relative;z-index: 1;}#sk-container-id-2 div.sk-parallel {display: flex;align-items: stretch;justify-content: center;background-color: white;position: relative;}#sk-container-id-2 div.sk-item::before, #sk-container-id-2 div.sk-parallel-item::before {content: \"\";position: absolute;border-left: 1px solid gray;box-sizing: border-box;top: 0;bottom: 0;left: 50%;z-index: -1;}#sk-container-id-2 div.sk-parallel-item {display: flex;flex-direction: column;z-index: 1;position: relative;background-color: white;}#sk-container-id-2 div.sk-parallel-item:first-child::after {align-self: flex-end;width: 50%;}#sk-container-id-2 div.sk-parallel-item:last-child::after {align-self: flex-start;width: 50%;}#sk-container-id-2 div.sk-parallel-item:only-child::after {width: 0;}#sk-container-id-2 div.sk-dashed-wrapped {border: 1px dashed gray;margin: 0 0.4em 0.5em 0.4em;box-sizing: border-box;padding-bottom: 0.4em;background-color: white;}#sk-container-id-2 div.sk-label label {font-family: monospace;font-weight: bold;display: inline-block;line-height: 1.2em;}#sk-container-id-2 div.sk-label-container {text-align: center;}#sk-container-id-2 div.sk-container {/* jupyter's `normalize.less` sets `[hidden] { display: none; }` but bootstrap.min.css set `[hidden] { display: none !important; }` so we also need the `!important` here to be able to override the default hidden behavior on the sphinx rendered scikit-learn.org. See: https://github.com/scikit-learn/scikit-learn/issues/21755 */display: inline-block !important;position: relative;}#sk-container-id-2 div.sk-text-repr-fallback {display: none;}</style><div id=\"sk-container-id-2\" class=\"sk-top-container\"><div class=\"sk-text-repr-fallback\"><pre>LinearRegression()</pre><b>In a Jupyter environment, please rerun this cell to show the HTML representation or trust the notebook. <br />On GitHub, the HTML representation is unable to render, please try loading this page with nbviewer.org.</b></div><div class=\"sk-container\" hidden><div class=\"sk-item\"><div class=\"sk-estimator sk-toggleable\"><input class=\"sk-toggleable__control sk-hidden--visually\" id=\"sk-estimator-id-2\" type=\"checkbox\" checked><label for=\"sk-estimator-id-2\" class=\"sk-toggleable__label sk-toggleable__label-arrow\">LinearRegression</label><div class=\"sk-toggleable__content\"><pre>LinearRegression()</pre></div></div></div></div></div>"
      ],
      "text/plain": [
       "LinearRegression()"
      ]
     },
     "execution_count": 28,
     "metadata": {},
     "output_type": "execute_result"
    }
   ],
   "source": [
    "model=LinearRegression()\n",
    "model.fit(X,Y)"
   ]
  },
  {
   "cell_type": "markdown",
   "id": "5b3b2454",
   "metadata": {},
   "source": [
    "Predicted Marks"
   ]
  },
  {
   "cell_type": "code",
   "execution_count": 29,
   "id": "493575a0",
   "metadata": {},
   "outputs": [
    {
     "name": "stdout",
     "output_type": "stream",
     "text": [
      "[70.80240294]\n"
     ]
    }
   ],
   "source": [
    "d = int(input(\"Enter the number of hours studied: \"))\n",
    "b = int(input(\"Enter the age: \"))\n",
    "c = int(input(\"Is Internet Available (0 or 1): \"))\n",
    "\n",
    "a=[[d,b,c]]\n",
    "PredictedmodelResult=model.predict(a)\n",
    "print(PredictedmodelResult)"
   ]
  },
  {
   "cell_type": "code",
   "execution_count": 30,
   "id": "9ebf5d8b",
   "metadata": {},
   "outputs": [
    {
     "data": {
      "text/plain": [
       "<matplotlib.collections.PathCollection at 0x1ed26a78450>"
      ]
     },
     "execution_count": 30,
     "metadata": {},
     "output_type": "execute_result"
    },
    {
     "data": {
      "image/png": "[encoded data removed]",
      "text/plain": [
       "<Figure size 640x480 with 1 Axes>"
      ]
     },
     "metadata": {},
     "output_type": "display_data"
    }
   ],
   "source": [
    "plt.xlabel(\"age\")\n",
    "plt.ylabel(\"marks\")\n",
    "plt.scatter(df.age,df.marks,color=\"green\",marker=\".\")"
   ]
  },
  {
   "cell_type": "code",
   "execution_count": 31,
   "id": "c39a4b33",
   "metadata": {},
   "outputs": [
    {
     "data": {
      "text/plain": [
       "<matplotlib.collections.PathCollection at 0x1ed2b64fc90>"
      ]
     },
     "execution_count": 31,
     "metadata": {},
     "output_type": "execute_result"
    },
    {
     "data": {
      "image/png": "[encoded data removed]",
      "text/plain": [
       "<Figure size 640x480 with 1 Axes>"
      ]
     },
     "metadata": {},
     "output_type": "display_data"
    }
   ],
   "source": [
    "plt.xlabel(\"internet\")\n",
    "plt.ylabel(\"marks\")\n",
    "plt.scatter(df.internet,df.marks,color=\"blue\",marker=\".\")"
   ]
  }
 ],
 "metadata": {
  "kernelspec": {
   "display_name": "Python 3 (ipykernel)",
   "language": "python",
   "name": "python3"
  },
  "language_info": {
   "codemirror_mode": {
    "name": "ipython",
    "version": 3
   },
   "file_extension": ".py",
   "mimetype": "text/x-python",
   "name": "python",
   "nbconvert_exporter": "python",
   "pygments_lexer": "ipython3",
   "version": "3.11.4"
  }
 },
 "nbformat": 4,
 "nbformat_minor": 5
}
